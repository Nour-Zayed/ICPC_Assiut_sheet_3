{
 "cells": [
  {
   "cell_type": "code",
   "execution_count": 22,
   "id": "3a99c81c-0803-4694-af31-d804ec2768cf",
   "metadata": {},
   "outputs": [
    {
     "name": "stdin",
     "output_type": "stream",
     "text": [
      " 3\n",
      " -1 2 -3\n"
     ]
    },
    {
     "name": "stdout",
     "output_type": "stream",
     "text": [
      "2\n"
     ]
    }
   ],
   "source": [
    "# A problem1\n",
    "\n",
    "x=int(input())\n",
    "arr = list(map(int ,input().split()))\n",
    "\n",
    "sum =0\n",
    "for i in arr :\n",
    "    sum +=i\n",
    "Sum=abs(sum)\n",
    "print (Sum)\n",
    "   \n"
   ]
  },
  {
   "cell_type": "code",
   "execution_count": 40,
   "id": "954b2394-4264-4829-9673-b8f47bc57e30",
   "metadata": {},
   "outputs": [
    {
     "name": "stdin",
     "output_type": "stream",
     "text": [
      " 4\n",
      " 2 3 5 4\n",
      " 8\n"
     ]
    },
    {
     "name": "stdout",
     "output_type": "stream",
     "text": [
      "-1\n"
     ]
    }
   ],
   "source": [
    "# B problem2\n",
    "\n",
    "x=int(input())\n",
    "arr = list(map(int, input().split()))\n",
    "y=int(input())\n",
    " \n",
    "try:\n",
    "    Y =arr.index(y)\n",
    "    print(Y)\n",
    "except :\n",
    "    print (-1)\n",
    "\n"
   ]
  },
  {
   "cell_type": "code",
   "execution_count": 45,
   "id": "f14ae7d7-3561-42bc-8826-445a3108985a",
   "metadata": {},
   "outputs": [
    {
     "name": "stdin",
     "output_type": "stream",
     "text": [
      " 5\n",
      " 4 2 0 -2 1\n"
     ]
    },
    {
     "name": "stdout",
     "output_type": "stream",
     "text": [
      "1 1 0 2 1\n"
     ]
    }
   ],
   "source": [
    "# C problem3\n",
    "\n",
    "x=int(input())\n",
    "arr= list(map(int,input().split()))\n",
    "result=[]\n",
    "for i in  arr :\n",
    "    if i > 0:\n",
    "       result.append('1') \n",
    "    elif i<0 :\n",
    "        result.append('2')\n",
    "    else:\n",
    "        result.append('0')\n",
    "\n",
    "\n",
    "print(' '.join(result))\n",
    "    \n",
    "\n",
    "\n",
    "    \n",
    "\n"
   ]
  },
  {
   "cell_type": "code",
   "execution_count": 65,
   "id": "da6d5024-e410-46f2-b7ce-5beb423915ce",
   "metadata": {},
   "outputs": [
    {
     "name": "stdin",
     "output_type": "stream",
     "text": [
      " 5\n",
      " 10 2 44\n"
     ]
    },
    {
     "name": "stdout",
     "output_type": "stream",
     "text": [
      "A[0] = 10\n",
      "A[1] = 2\n"
     ]
    }
   ],
   "source": [
    "# D problem4\n",
    "\n",
    "x=int(input())\n",
    "arr= list(map(int,input().split()))\n",
    "\n",
    "for index ,value in enumerate(arr):\n",
    "    if value<= 10:\n",
    "        print(f\"A{[index]} = {value}\")\n",
    "    else:\n",
    "        continue\n"
   ]
  },
  {
   "cell_type": "code",
   "execution_count": 19,
   "id": "7f98a80f-e9ea-4983-811a-ab51728311a4",
   "metadata": {},
   "outputs": [
    {
     "name": "stdin",
     "output_type": "stream",
     "text": [
      " 4\n",
      " 5 2 3 1\n"
     ]
    },
    {
     "name": "stdout",
     "output_type": "stream",
     "text": [
      "1 4\n"
     ]
    }
   ],
   "source": [
    "# E problem5\n",
    "\n",
    "x=int(input())\n",
    "arr=list(map(int,input().split()))\n",
    "index=0\n",
    "Min=min(arr)\n",
    "\n",
    "print (Min,arr.index(Min)+1)"
   ]
  },
  {
   "cell_type": "code",
   "execution_count": 29,
   "id": "b6fa5827-869e-4d3d-b2a9-c8a7d8bd6448",
   "metadata": {},
   "outputs": [
    {
     "name": "stdin",
     "output_type": "stream",
     "text": [
      " 4\n",
      " 1 2 5 4\n"
     ]
    },
    {
     "name": "stdout",
     "output_type": "stream",
     "text": [
      "4 5 2 1\n"
     ]
    }
   ],
   "source": [
    "# F problem6\n",
    "\n",
    "x=int(input())\n",
    "arr=list(map(int,input().split()))\n",
    "\n",
    "rev=' '.join(map(str,arr[::-1]))\n",
    "print(rev)\n",
    "\n"
   ]
  },
  {
   "cell_type": "code",
   "execution_count": 34,
   "id": "5cbffa03-db7d-41e3-89b6-cb1969a9710f",
   "metadata": {},
   "outputs": [
    {
     "name": "stdin",
     "output_type": "stream",
     "text": [
      " 4 \n",
      " 1 2 3 4\n"
     ]
    },
    {
     "name": "stdout",
     "output_type": "stream",
     "text": [
      "NO\n"
     ]
    }
   ],
   "source": [
    "# G problem7\n",
    "\n",
    "x=int(input())\n",
    "arr= list(map(int,input().split()))\n",
    "\n",
    "if arr ==arr[ :: -1] :\n",
    "    print('YES')\n",
    "else:\n",
    "    print('NO')\n",
    "    \n"
   ]
  },
  {
   "cell_type": "code",
   "execution_count": 42,
   "id": "11e5585a-c91e-4d7d-a60d-557df6ef6ffa",
   "metadata": {},
   "outputs": [
    {
     "name": "stdin",
     "output_type": "stream",
     "text": [
      " 3\n",
      " 4 5 1\n"
     ]
    },
    {
     "name": "stdout",
     "output_type": "stream",
     "text": [
      "1 4 5 "
     ]
    }
   ],
   "source": [
    "# H problem8\n",
    "x=int(input())\n",
    "arr=list (map(int,input().split()))\n",
    "\n",
    "for i in range (0 ,x-1):\n",
    "    index\n",
    "    flag=0\n",
    "    value=arr[i]\n",
    "    for z in range (i+1, x ):\n",
    "        if(arr[z]<value):\n",
    "            index=z\n",
    "            value=arr[z]\n",
    "            flag=1\n",
    "    if flag == 1:\n",
    "        temp=arr[i]\n",
    "        arr[i]=value\n",
    "        arr[index]=temp\n",
    "for i in range (0,x):\n",
    "    print(arr[i],end=' ')\n"
   ]
  },
  {
   "cell_type": "code",
   "execution_count": 43,
   "id": "bcfb1682-a56f-4ed3-8ab0-51dce78ec619",
   "metadata": {},
   "outputs": [
    {
     "name": "stdin",
     "output_type": "stream",
     "text": [
      " 3\n",
      " 4 1 2 \n"
     ]
    },
    {
     "name": "stdout",
     "output_type": "stream",
     "text": [
      "1 2 4\n"
     ]
    }
   ],
   "source": [
    "# H problem8\n",
    "\n",
    "x = int(input())\n",
    "arr = list(map(int, input().split()))\n",
    "\n",
    "arr = sorted(arr)\n",
    "\n",
    "print(' '.join(map(str, arr)))\n"
   ]
  },
  {
   "cell_type": "code",
   "execution_count": 3,
   "id": "438f6096-8e5a-4a8a-b4d0-7e54fd95e98c",
   "metadata": {},
   "outputs": [
    {
     "name": "stdin",
     "output_type": "stream",
     "text": [
      " 1\n",
      " 4\n",
      " 20 1 9 4\n"
     ]
    },
    {
     "name": "stdout",
     "output_type": "stream",
     "text": [
      "7\n"
     ]
    }
   ],
   "source": [
    "# I problem9\n",
    "\n",
    "def smallest_possible_sum(arr):\n",
    "    n = len(arr)\n",
    "    min_value = float('inf')\n",
    "    min_ai_minus_i = arr[0] - 0\n",
    "    \n",
    "    for j in range(1, n):\n",
    "        min_value = min(min_value, arr[j] + j + min_ai_minus_i)\n",
    "        min_ai_minus_i = min(min_ai_minus_i, arr[j] - j)\n",
    "    \n",
    "    return min_value\n",
    "\n",
    "def main():\n",
    "    t = int(input())\n",
    "    results = []\n",
    "    for _ in range(t):\n",
    "        n = int(input())\n",
    "        arr = list(map(int, input().split()))\n",
    "        results.append(smallest_possible_sum(arr))\n",
    "    \n",
    "    for result in results:\n",
    "        print(result)\n",
    "\n",
    "if __name__ == \"__main__\":\n",
    "    main()\n"
   ]
  },
  {
   "cell_type": "code",
   "execution_count": 7,
   "id": "6287e516-f46f-464a-b5e7-1a31b56da54a",
   "metadata": {},
   "outputs": [
    {
     "name": "stdin",
     "output_type": "stream",
     "text": [
      " 4\n",
      " 4 5 2\n"
     ]
    },
    {
     "name": "stdout",
     "output_type": "stream",
     "text": [
      "Lucky\n"
     ]
    }
   ],
   "source": [
    "# J problem10\n",
    "\n",
    "from collections import Counter\n",
    "\n",
    "try:\n",
    "    x = input().strip() \n",
    "    arr = list(map(int, input().strip().split()))\n",
    "    \n",
    "    fre = Counter(arr)\n",
    "    \n",
    "    Min = min(arr)  \n",
    "    if fre[Min] % 2 == 0:\n",
    "        print(\"Unlucky\")\n",
    "    else:\n",
    "        print(\"Lucky\")\n",
    "\n",
    "except ValueError as e:\n",
    "    print(f\"Invalid input: {e}\")\n"
   ]
  },
  {
   "cell_type": "code",
   "execution_count": 23,
   "id": "0b2b0eb9-951c-4c2e-923a-808ef9308f6a",
   "metadata": {},
   "outputs": [
    {
     "name": "stdin",
     "output_type": "stream",
     "text": [
      " 4\n",
      " 1302\n"
     ]
    },
    {
     "name": "stdout",
     "output_type": "stream",
     "text": [
      "6\n"
     ]
    }
   ],
   "source": [
    "# K problem11\n",
    "\n",
    "x=int(input())\n",
    "arr= list(map(int,input()))\n",
    "\n",
    "sum =0\n",
    "for i in arr :\n",
    "    sum +=i\n",
    "print (sum)    \n",
    "\n"
   ]
  },
  {
   "cell_type": "code",
   "execution_count": 3,
   "id": "adf8ccc2-3a93-4265-bf1d-598d61833d1a",
   "metadata": {},
   "outputs": [
    {
     "name": "stdin",
     "output_type": "stream",
     "text": [
      " 1\n",
      " 4\n",
      " 1 6 3 7\n"
     ]
    },
    {
     "name": "stdout",
     "output_type": "stream",
     "text": [
      "1 6 6 7 6 6 7 3 7 7\n"
     ]
    }
   ],
   "source": [
    "# L problem12\n",
    "\n",
    "def max_in_subarrays(arr):\n",
    "  n = len(arr)\n",
    "  result = []\n",
    "\n",
    "  for i in range(n):\n",
    "    max_val = arr[i]\n",
    "    result.append(max_val)\n",
    "    for j in range(i+1, n):\n",
    "      max_val = max(max_val, arr[j])\n",
    "      result.append(max_val)\n",
    "  return result\n",
    "\n",
    "def main():\n",
    "  t = int(input())\n",
    "\n",
    "    \n",
    "  for _ in range(t):\n",
    "    n = int(input())\n",
    "    arr = list(map(int, input().split()))\n",
    "    result = max_in_subarrays(arr)\n",
    "    print(*result)\n",
    "\n",
    "if __name__ == \"__main__\":\n",
    "  main()\n"
   ]
  },
  {
   "cell_type": "code",
   "execution_count": 15,
   "id": "06fd719b-eedb-4c56-ac34-4ed8ce5087af",
   "metadata": {},
   "outputs": [
    {
     "name": "stdin",
     "output_type": "stream",
     "text": [
      " 5\n",
      " 4 1 3 10 8\n"
     ]
    },
    {
     "name": "stdout",
     "output_type": "stream",
     "text": [
      "4 10 3 1 8\n"
     ]
    }
   ],
   "source": [
    "# M problem13\n",
    "x=int(input())\n",
    "arr=list(map(int,input().split()))\n",
    "\n",
    "Max=arr.index(max(arr))\n",
    "Min=arr.index(min(arr))\n",
    "\n",
    "arr[Max],arr[Min] = arr [Min], arr[Max]\n",
    "\n",
    "print(\" \".join (map(str,arr)))\n",
    "\n"
   ]
  },
  {
   "cell_type": "code",
   "execution_count": 51,
   "id": "ccfea14f-9683-44d2-9cb5-67326052742c",
   "metadata": {},
   "outputs": [
    {
     "name": "stdin",
     "output_type": "stream",
     "text": [
      " 1 1\n",
      " 12-\n"
     ]
    },
    {
     "name": "stdout",
     "output_type": "stream",
     "text": [
      "No\n"
     ]
    }
   ],
   "source": [
    "# N problem14\n",
    "\n",
    "def validate_code(A, B, S):\n",
    "    # Check the length of S\n",
    "    if len(S) != A + B + 1:\n",
    "        return \"No\"\n",
    "    \n",
    "    if S[A] != '-':\n",
    "        return \"No\"\n",
    "    \n",
    "    for i in range(len(S)):\n",
    "        if i != A and not S[i].isdigit():\n",
    "            return \"No\"\n",
    "    \n",
    "    return \"Yes\"\n",
    "\n",
    "A, B = map(int, input().split())\n",
    "S = input().strip()\n",
    "\n",
    "print(validate_code(A, B, S))\n",
    "\n",
    "\n"
   ]
  },
  {
   "cell_type": "code",
   "execution_count": 55,
   "id": "1e20c836-8cbc-4520-93f7-12bb0696cabe",
   "metadata": {},
   "outputs": [
    {
     "name": "stdin",
     "output_type": "stream",
     "text": [
      " 5\n"
     ]
    },
    {
     "name": "stdout",
     "output_type": "stream",
     "text": [
      "3\n"
     ]
    }
   ],
   "source": [
    "# O problem15\n",
    "\n",
    "def fibonacci(n):\n",
    "    if n == 1:\n",
    "        return 0\n",
    "    elif n == 2:\n",
    "        return 1\n",
    "    \n",
    "    a, b = 0, 1\n",
    "    for _ in range(3, n + 1):\n",
    "        a, b = b, a + b\n",
    "    return b\n",
    "\n",
    "n = int(input().strip())\n",
    "\n",
    "result = fibonacci(n)\n",
    "\n",
    "print(result)"
   ]
  },
  {
   "cell_type": "code",
   "execution_count": 56,
   "id": "c8c04dd7-eb54-4954-a6ac-54a98809ecaa",
   "metadata": {},
   "outputs": [
    {
     "name": "stdin",
     "output_type": "stream",
     "text": [
      " 3\n",
      "  12 6 40\n"
     ]
    },
    {
     "name": "stdout",
     "output_type": "stream",
     "text": [
      "1\n"
     ]
    }
   ],
   "source": [
    "# P problem16\n",
    "x = int(input())\n",
    "arr = list(map(int, input().split()))\n",
    "\n",
    "def count_2 (num):\n",
    "    count = 0\n",
    "    while num % 2 == 0:\n",
    "        num //= 2\n",
    "        count += 1\n",
    "    return count\n",
    "\n",
    "min_operations = float('inf')\n",
    "for num in arr:\n",
    "    operations = count_2(num)\n",
    "    if operations < min_operations:\n",
    "        min_operations = operations\n",
    "\n",
    "print(min_operations)"
   ]
  },
  {
   "cell_type": "code",
   "execution_count": 57,
   "id": "bf5da1cd-e2a8-4fa4-9e6b-8da0d1b94811",
   "metadata": {},
   "outputs": [
    {
     "name": "stdin",
     "output_type": "stream",
     "text": [
      " 1\n",
      " 5\n",
      "   1 4 2 3 5\n"
     ]
    },
    {
     "name": "stdout",
     "output_type": "stream",
     "text": [
      "9\n"
     ]
    }
   ],
   "source": [
    "# Q problem17\n",
    "\n",
    "t = int(input())\n",
    "for _ in range(t):\n",
    "    n = int(input())\n",
    "    arr = list(map(int, input().split()))\n",
    "\n",
    "    count = 0\n",
    "    current_length = 1 \n",
    "\n",
    "    for i in range(n):\n",
    "        if i > 0 and arr[i] >= arr[i - 1]:\n",
    "            current_length += 1\n",
    "        else:\n",
    "            current_length = 1\n",
    "        \n",
    "        count += current_length  \n",
    "\n",
    "    print(count)  "
   ]
  },
  {
   "cell_type": "code",
   "execution_count": 1,
   "id": "e1687e01-6b67-46bc-bc18-a8f106ac6add",
   "metadata": {},
   "outputs": [
    {
     "name": "stdin",
     "output_type": "stream",
     "text": [
      " 5\n",
      "    1 9 1 5 3  \n",
      "    5 1 1 9 3\n"
     ]
    },
    {
     "name": "stdout",
     "output_type": "stream",
     "text": [
      "yes\n"
     ]
    }
   ],
   "source": [
    "# R problem18\n",
    "\n",
    "x=int(input())\n",
    "\n",
    "arr1=list(map(int,input().split()))\n",
    "arr2=list(map(int,input().split()))\n",
    "\n",
    "set1 = set(arr1)\n",
    "set2 = set(arr2)\n",
    "\n",
    "if set1==set2 :\n",
    "    print(\"yes\")\n",
    "else:\n",
    "    print(\"no\")"
   ]
  },
  {
   "cell_type": "code",
   "execution_count": 2,
   "id": "59797e08-c211-4086-913c-6d6aa53f6c23",
   "metadata": {},
   "outputs": [
    {
     "name": "stdin",
     "output_type": "stream",
     "text": [
      " 5\n",
      "     1 9 1 5 3  \n",
      "     5 1 1 9 3\n"
     ]
    },
    {
     "name": "stdout",
     "output_type": "stream",
     "text": [
      "yes\n"
     ]
    }
   ],
   "source": [
    "# R2 problem18\n",
    "\n",
    "from collections import Counter\n",
    "\n",
    "def is_permutation(A, B):\n",
    "    return Counter(A) == Counter(B)\n",
    "\n",
    "def main():\n",
    "    N = int(input())\n",
    "    \n",
    "    A = list(map(int, input().split()))\n",
    "    B = list(map(int, input().split()))\n",
    "    \n",
    "    if is_permutation(A, B):\n",
    "        print(\"yes\")\n",
    "    else:\n",
    "        print(\"no\")\n",
    "\n",
    "if __name__ == \"__main__\":\n",
    "    main()"
   ]
  },
  {
   "cell_type": "code",
   "execution_count": 3,
   "id": "14307e3e-0c93-4816-b9fd-f27b316c293b",
   "metadata": {},
   "outputs": [
    {
     "name": "stdin",
     "output_type": "stream",
     "text": [
      " 2 2\n",
      " 1 3\n",
      " 4 3\n",
      " 3\n"
     ]
    },
    {
     "name": "stdout",
     "output_type": "stream",
     "text": [
      "will not take number\n"
     ]
    }
   ],
   "source": [
    "# S problem19\n",
    "\n",
    "rows, cols = map(int, input().split())\n",
    " \n",
    "matrix = []  \n",
    " \n",
    "for _ in range(rows):\n",
    "    row = list(map(int, input().split()))\n",
    "    matrix.append(row)  \n",
    " \n",
    "X = int(input())\n",
    " \n",
    "found = False\n",
    "for row in matrix:\n",
    "    if X in row:\n",
    "        found = True\n",
    "        break\n",
    " \n",
    "if found:\n",
    "    print(\"will not take number\")\n",
    "else:\n",
    "    print(\"will take number\")"
   ]
  },
  {
   "cell_type": "code",
   "execution_count": 61,
   "id": "066ec1c5-eda1-4691-9631-ca936b80464b",
   "metadata": {},
   "outputs": [
    {
     "name": "stdin",
     "output_type": "stream",
     "text": [
      " 4\n",
      "  1 5 12 1\n",
      "  2 -4 6 7\n",
      "  3 8 5 9\n",
      "  3 5 23 -6\n"
     ]
    },
    {
     "name": "stdout",
     "output_type": "stream",
     "text": [
      "22\n"
     ]
    }
   ],
   "source": [
    "# T problem20\n",
    "\n",
    "def sum_main_diagonal(matrix):\n",
    "    n = len(matrix) \n",
    "    diagonal_sum = 0\n",
    "    \n",
    "    for i in range(n):\n",
    "        # Sum elements where row index equals column index\n",
    "        diagonal_sum += matrix[i][i]  \n",
    "    \n",
    "    return diagonal_sum\n",
    "\n",
    "def sum_secondary_diagonal(matrix):\n",
    "    n = len(matrix) \n",
    "    diagonal_sum = 0\n",
    "    \n",
    "    for i in range(n):\n",
    "        # Sum elements where row index plus column index equals n-1\n",
    "        diagonal_sum += matrix[i][n - i - 1] \n",
    "    \n",
    "    return diagonal_sum\n",
    "\n",
    "rows = int(input())\n",
    "cols = rows  \n",
    "\n",
    "matrix = [] \n",
    "\n",
    "for _ in range(rows):\n",
    "    row = list(map(int, input().split()))\n",
    "    matrix.append(row)  \n",
    "\n",
    "if rows == cols:\n",
    "    main_diagonal_sum = sum_main_diagonal(matrix)\n",
    "    secondary_diagonal_sum = sum_secondary_diagonal(matrix)\n",
    "  \n",
    "    print( abs(main_diagonal_sum - secondary_diagonal_sum))\n",
    "\n"
   ]
  },
  {
   "cell_type": "code",
   "execution_count": 62,
   "id": "44829453-191e-49b1-b013-01fec0558fc7",
   "metadata": {},
   "outputs": [
    {
     "name": "stdin",
     "output_type": "stream",
     "text": [
      " 3 3\n",
      "  21 8 40\n",
      "  21 8 40\n"
     ]
    },
    {
     "name": "stdout",
     "output_type": "stream",
     "text": [
      "YES\n"
     ]
    }
   ],
   "source": [
    "# U problem1\n",
    "\n",
    "def is_subsequence(A, B):\n",
    "    N = len(A)\n",
    "    M = len(B)\n",
    "    \n",
    "    i, j = 0, 0\n",
    "    \n",
    "    while i < N and j < M:\n",
    "        if A[i] == B[j]:\n",
    "            j += 1\n",
    "        i += 1\n",
    "    \n",
    "    if j == M:\n",
    "        return \"YES\"\n",
    "    else:\n",
    "        return \"NO\"\n",
    "\n",
    "N, M = map(int, input().split())\n",
    "A = list(map(int, input().split()))\n",
    "B = list(map(int, input().split()))\n",
    "\n",
    "# Output\n",
    "print(is_subsequence(A, B))\n"
   ]
  },
  {
   "cell_type": "code",
   "execution_count": 43,
   "id": "1ed2191d-9939-462d-bcfe-1492f1e23add",
   "metadata": {},
   "outputs": [
    {
     "name": "stdin",
     "output_type": "stream",
     "text": [
      " 10 5\n",
      "  1 2 3 4 5 3 2 1 5 3\n"
     ]
    },
    {
     "name": "stdout",
     "output_type": "stream",
     "text": [
      "2\n",
      "2\n",
      "3\n",
      "1\n",
      "2\n"
     ]
    }
   ],
   "source": [
    "# V problem22\n",
    "\n",
    "n, m = map(int, input().split())\n",
    "arr = list(map(int, input().split()))\n",
    "\n",
    "frequency = [0] * (m + 1)\n",
    "\n",
    "for num in arr:\n",
    "    frequency[num] += 1\n",
    "\n",
    "for i in range(1, m + 1):\n",
    "    print(frequency[i])\n",
    "\n",
    "\n"
   ]
  },
  {
   "cell_type": "code",
   "execution_count": 15,
   "id": "b4a96f8f-facd-4e45-beb2-3d56278cfca5",
   "metadata": {},
   "outputs": [
    {
     "name": "stdin",
     "output_type": "stream",
     "text": [
      " 2 2\n",
      " 4 5\n",
      " 4 2\n"
     ]
    },
    {
     "name": "stdout",
     "output_type": "stream",
     "text": [
      "5 4\n",
      "2 4\n"
     ]
    }
   ],
   "source": [
    "# W problem23\n",
    "\n",
    "rows, cols = map(int, input().split())\n",
    " \n",
    "matrix = []  \n",
    " \n",
    "for _ in range(rows):\n",
    "    row = list(map(int, input().split()))\n",
    "    matrix.append(row) \n",
    " \n",
    "for row in matrix:\n",
    "    reversed_row = row[::-1]\n",
    "    print(*reversed_row)"
   ]
  },
  {
   "cell_type": "code",
   "execution_count": 54,
   "id": "b3bce684-7a4d-4f01-9a40-64e768789cdd",
   "metadata": {},
   "outputs": [
    {
     "name": "stdin",
     "output_type": "stream",
     "text": [
      " 3 3\n",
      " xxx\n",
      " x.x\n",
      " xxx\n",
      " 2 2\n"
     ]
    },
    {
     "name": "stdout",
     "output_type": "stream",
     "text": [
      "yes\n"
     ]
    }
   ],
   "source": [
    "# X problem24\n",
    "\n",
    "def all_neighbors_x(N, M, A, X, Y):\n",
    "    # Convert to 0-based index\n",
    "    X -= 1\n",
    "    Y -= 1\n",
    "    \n",
    "    directions = [(-1, -1), (-1, 0), (-1, 1),\n",
    "                  (0, -1),         (0, 1),\n",
    "                  (1, -1), (1, 0), (1, 1)]\n",
    "    \n",
    "    for dx, dy in directions:\n",
    "        nx, ny = X + dx, Y + dy\n",
    "        \n",
    "        if 0 <= nx < N and 0 <= ny < M:\n",
    "            if A[nx][ny] != 'x':\n",
    "                return \"no\"\n",
    "    \n",
    "    return \"yes\"\n",
    " \n",
    "N, M = map(int, input().split())\n",
    "A = [input().strip() for _ in range(N)]\n",
    "X, Y = map(int, input().split())\n",
    " \n",
    "print(all_neighbors_x(N, M, A, X, Y))\n"
   ]
  },
  {
   "cell_type": "code",
   "execution_count": 9,
   "id": "6dc72104-7161-477a-b374-57a9f395add2",
   "metadata": {},
   "outputs": [
    {
     "name": "stdin",
     "output_type": "stream",
     "text": [
      " 6 3\n",
      "   6 4 2 7 2 7\n",
      " 1 3\n"
     ]
    },
    {
     "name": "stdout",
     "output_type": "stream",
     "text": [
      "12\n"
     ]
    },
    {
     "name": "stdin",
     "output_type": "stream",
     "text": [
      " 3 6\n"
     ]
    },
    {
     "name": "stdout",
     "output_type": "stream",
     "text": [
      "18\n"
     ]
    },
    {
     "name": "stdin",
     "output_type": "stream",
     "text": [
      " 1 6\n"
     ]
    },
    {
     "name": "stdout",
     "output_type": "stream",
     "text": [
      "28\n"
     ]
    }
   ],
   "source": [
    "# Y problem25\n",
    "\n",
    "def prefix_sum(arr):\n",
    "    n = len(arr)\n",
    "    prefix_sum = [0] * (n + 1)\n",
    "    for i in range(1, n + 1):\n",
    "        prefix_sum[i] = prefix_sum[i - 1] + arr[i - 1]\n",
    "    return prefix_sum\n",
    "\n",
    "def range_sum(prefix_sum, L, R):\n",
    "    return prefix_sum[R + 1] - prefix_sum[L]\n",
    "\n",
    "def main():\n",
    "    n, q = map(int, input().split())\n",
    "    arr = list(map(int, input().split()))\n",
    "\n",
    "    prefix_sum_array = prefix_sum(arr)\n",
    "\n",
    "    for _ in range(q):\n",
    "        L, R = map(int, input().split())\n",
    "        result = range_sum(prefix_sum_array, L - 1, R - 1)\n",
    "        print(result)\n",
    "\n",
    "if __name__ == \"__main__\":\n",
    "    main()\n"
   ]
  },
  {
   "cell_type": "code",
   "execution_count": 19,
   "id": "3a1f61ef-a971-4026-a884-aaace1e6c996",
   "metadata": {},
   "outputs": [
    {
     "name": "stdin",
     "output_type": "stream",
     "text": [
      " 5 3\n",
      "  1 5 4 3 2\n",
      " 5 \n",
      " 1\n",
      " 6\n"
     ]
    },
    {
     "name": "stdout",
     "output_type": "stream",
     "text": [
      "found\n",
      "found\n",
      "n found\n"
     ]
    }
   ],
   "source": [
    "# Z problem26\n",
    "\n",
    "x,y = map(int, input().split())\n",
    "arr = list(map(int, input().split()))\n",
    "\n",
    "arry=[]\n",
    "\n",
    "for _ in range(y):\n",
    "    arry.append(int(input()))\n",
    "\n",
    "\n",
    "for X in arry:\n",
    "    if X in arr:\n",
    "      \n",
    "         print(\"found\")\n",
    "    else:\n",
    "         print(\"not found\")\n"
   ]
  },
  {
   "cell_type": "code",
   "execution_count": 20,
   "id": "e2a92929-29b6-431b-8428-70c41df8a01c",
   "metadata": {},
   "outputs": [
    {
     "name": "stdin",
     "output_type": "stream",
     "text": [
      " 5 3\n",
      " 1 5 4 3 2\n",
      " 5 \n",
      " 6\n",
      " 1\n"
     ]
    },
    {
     "name": "stdout",
     "output_type": "stream",
     "text": [
      "found\n",
      "not found\n",
      "found\n"
     ]
    }
   ],
   "source": [
    "# Z problem26\n",
    "#take less time (optimized)\n",
    "\n",
    "x, y = map(int, input().split())\n",
    "arr = set(map(int, input().split())) \n",
    "\n",
    "queries = [int(input()) for _ in range(y)]\n",
    "\n",
    "for query in queries:\n",
    "    if query in arr:\n",
    "        print(\"found\")\n",
    "    else:\n",
    "        print(\"not found\")\n"
   ]
  },
  {
   "cell_type": "code",
   "execution_count": null,
   "id": "d5d919a1-e27f-423b-aacd-155112469da5",
   "metadata": {},
   "outputs": [],
   "source": []
  },
  {
   "cell_type": "code",
   "execution_count": null,
   "id": "a7d9b274-db68-4911-8217-1ae5564d3ba2",
   "metadata": {},
   "outputs": [],
   "source": []
  }
 ],
 "metadata": {
  "kernelspec": {
   "display_name": "Python 3 (ipykernel)",
   "language": "python",
   "name": "python3"
  },
  "language_info": {
   "codemirror_mode": {
    "name": "ipython",
    "version": 3
   },
   "file_extension": ".py",
   "mimetype": "text/x-python",
   "name": "python",
   "nbconvert_exporter": "python",
   "pygments_lexer": "ipython3",
   "version": "3.11.5"
  }
 },
 "nbformat": 4,
 "nbformat_minor": 5
}
